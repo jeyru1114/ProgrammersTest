{
 "cells": [
  {
   "cell_type": "markdown",
   "id": "2488fe5b",
   "metadata": {},
   "source": [
    "### 문제 설명\n",
    "다음과 같이 출력하도록 코드를 작성해 주세요.\n",
    "\n",
    "### 출력 예시\n",
    "!@#$%^&*(\\'\"<>?:;"
   ]
  },
  {
   "cell_type": "code",
   "execution_count": 1,
   "id": "2677e14f",
   "metadata": {
    "scrolled": true
   },
   "outputs": [
    {
     "name": "stdout",
     "output_type": "stream",
     "text": [
      "!@#$%^&*(\\'\"<>?:;\n"
     ]
    }
   ],
   "source": [
    "print('!@#$%^&*(\\\\\\'\"<>?:;') \n",
    "# 역슬래쉬 출력하려면 \\\\ 역슬래쉬 두개를써야함, 작은따옴표를 출력하기위해 \\' 로 역슬래쉬를 붙여서 사용함"
   ]
  }
 ],
 "metadata": {
  "kernelspec": {
   "display_name": "Python 3 (ipykernel)",
   "language": "python",
   "name": "python3"
  },
  "language_info": {
   "codemirror_mode": {
    "name": "ipython",
    "version": 3
   },
   "file_extension": ".py",
   "mimetype": "text/x-python",
   "name": "python",
   "nbconvert_exporter": "python",
   "pygments_lexer": "ipython3",
   "version": "3.11.4"
  }
 },
 "nbformat": 4,
 "nbformat_minor": 5
}
