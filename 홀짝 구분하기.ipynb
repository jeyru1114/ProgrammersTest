{
 "cells": [
  {
   "cell_type": "markdown",
   "id": "0e069f93",
   "metadata": {},
   "source": [
    "### 문제 설명\n",
    "자연수 n이 입력으로 주어졌을 때 만약 n이 짝수이면 \"n is even\"을, 홀수이면 \"n is odd\"를 출력하는 코드를 작성해 보세요.\n",
    "\n",
    "### 제한사항\n",
    "1 ≤ n ≤ 1,000\n",
    "\n",
    "### 입력 #1\n",
    "100\n",
    "\n",
    "### 출력 #1\n",
    "100 is even\n",
    "\n",
    "### 입력 #2\n",
    "1\n",
    "\n",
    "### 출력 #2\n",
    "1 is odd"
   ]
  },
  {
   "cell_type": "code",
   "execution_count": 1,
   "id": "2c770b65",
   "metadata": {},
   "outputs": [
    {
     "name": "stdout",
     "output_type": "stream",
     "text": [
      "100\n",
      "100 is even\n"
     ]
    }
   ],
   "source": [
    "a = int(input()) # 입력받은 문자열을 정수형으로 변경하여 a로 저장\n",
    "if a%2==0: # 조건문을 사용하여 만약 a를 2로 나눴을때 나머지가 0이면 \n",
    "    print(str(a)+\" is even\") # a를 문자형으로 변환하여 \"is even\" 문자와 같이 출력\n",
    "else : # 아닐경우\n",
    "    print(str(a)+\" is odd\") # a를 문자형으로 변환하여 \"is odd\" 문자와 같이 출력"
   ]
  }
 ],
 "metadata": {
  "kernelspec": {
   "display_name": "Python 3 (ipykernel)",
   "language": "python",
   "name": "python3"
  },
  "language_info": {
   "codemirror_mode": {
    "name": "ipython",
    "version": 3
   },
   "file_extension": ".py",
   "mimetype": "text/x-python",
   "name": "python",
   "nbconvert_exporter": "python",
   "pygments_lexer": "ipython3",
   "version": "3.11.4"
  }
 },
 "nbformat": 4,
 "nbformat_minor": 5
}
