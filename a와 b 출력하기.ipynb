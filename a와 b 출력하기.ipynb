{
 "cells": [
  {
   "cell_type": "markdown",
   "id": "39bddd00",
   "metadata": {},
   "source": [
    "### 문제 설명\n",
    "정수 a와 b가 주어집니다. 각 수를 입력받아 입출력 예와 같은 형식으로 출력하는 코드를 작성해 보세요.\n",
    "\n",
    "### 제한사항\n",
    "-100,000 ≤ a, b ≤ 100,000\n",
    "\n",
    "### 입력\n",
    "4 5\n",
    "\n",
    "### 출력\n",
    "\n",
    "a = 4\n",
    "b = 5"
   ]
  },
  {
   "cell_type": "code",
   "execution_count": 2,
   "id": "722503b2",
   "metadata": {},
   "outputs": [
    {
     "name": "stdout",
     "output_type": "stream",
     "text": [
      "4 5\n",
      "a = 4\n",
      "b = 5\n"
     ]
    }
   ],
   "source": [
    "a, b = map(int, input().split(' ')) #입력받은 문자열을 공백을 기준으로 분할하여 정수로 변환하여 a,b에 저장\n",
    "print(\"a =\" , str(a) ) #출력\n",
    "print(\"b =\" , str(b) )"
   ]
  }
 ],
 "metadata": {
  "kernelspec": {
   "display_name": "Python 3 (ipykernel)",
   "language": "python",
   "name": "python3"
  },
  "language_info": {
   "codemirror_mode": {
    "name": "ipython",
    "version": 3
   },
   "file_extension": ".py",
   "mimetype": "text/x-python",
   "name": "python",
   "nbconvert_exporter": "python",
   "pygments_lexer": "ipython3",
   "version": "3.11.4"
  }
 },
 "nbformat": 4,
 "nbformat_minor": 5
}
