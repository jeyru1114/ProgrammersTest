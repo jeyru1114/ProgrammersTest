{
 "cells": [
  {
   "cell_type": "markdown",
   "id": "3c1169d1",
   "metadata": {},
   "source": [
    "### 문제 설명\n",
    "두 정수 a, b가 주어질 때 다음과 같은 형태의 계산식을 출력하는 코드를 작성해 보세요.\n",
    "a + b = c\n",
    "\n",
    "### 제한사항\n",
    "1 ≤ a, b ≤ 100\n",
    "\n",
    "### 입력\n",
    "4 5\n",
    "\n",
    "### 출력\n",
    "4 + 5 = 9"
   ]
  },
  {
   "cell_type": "code",
   "execution_count": 1,
   "id": "4d72d7d0",
   "metadata": {},
   "outputs": [
    {
     "name": "stdout",
     "output_type": "stream",
     "text": [
      "4 5\n",
      "4 + 5 = 9\n"
     ]
    }
   ],
   "source": [
    "a, b = map(int, input().strip().split(' ')) # 입력받은 문자열을 공백을 기준으로 잘라서 정수형으로 a,b에 저장\n",
    "c=a+b # a+b의 값을 c에 저장\n",
    "print(a,\"+\",b,\"=\",c) # 출력 a + b = c 가 나오도록함"
   ]
  }
 ],
 "metadata": {
  "kernelspec": {
   "display_name": "Python 3 (ipykernel)",
   "language": "python",
   "name": "python3"
  },
  "language_info": {
   "codemirror_mode": {
    "name": "ipython",
    "version": 3
   },
   "file_extension": ".py",
   "mimetype": "text/x-python",
   "name": "python",
   "nbconvert_exporter": "python",
   "pygments_lexer": "ipython3",
   "version": "3.11.4"
  }
 },
 "nbformat": 4,
 "nbformat_minor": 5
}
