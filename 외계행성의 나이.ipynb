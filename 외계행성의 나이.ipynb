{
 "cells": [
  {
   "cell_type": "markdown",
   "id": "3373b653",
   "metadata": {},
   "source": [
    "## 문제 설명\n",
    "우주여행을 하던 머쓱이는 엔진 고장으로 PROGRAMMERS-962 행성에 불시착하게 됐습니다. 입국심사에서 나이를 말해야 하는데, PROGRAMMERS-962 행성에서는 나이를 알파벳으로 말하고 있습니다. a는 0, b는 1, c는 2, ..., j는 9입니다. 예를 들어 23살은 cd, 51살은 fb로 표현합니다. 나이 age가 매개변수로 주어질 때 PROGRAMMER-962식 나이를 return하도록 solution 함수를 완성해주세요.\n",
    "\n",
    "## 제한사항\n",
    "age는 자연수입니다.\n",
    "age ≤ 1,000\n",
    "PROGRAMMERS-962 행성은 알파벳 소문자만 사용합니다.\n",
    "\n",
    "## 입출력 예\n",
    "|age|\tresult|\n",
    "|:-:|:-------:|\n",
    "|23\t|\"cd\"|\n",
    "|51\t|\"fb\"|\n",
    "|100|\"baa\"|\n",
    "\n",
    "## 입출력 예 설명\n",
    "\n",
    "### 입출력 예 #1\n",
    "age가 23이므로 \"cd\"를 return합니다.\n",
    "\n",
    "### 입출력 예 #2\n",
    "age가 51이므로 \"fb\"를 return합니다.\n",
    "\n",
    "### 입출력 예 #3\n",
    "age가 100이므로 \"baa\"를 return합니다."
   ]
  },
  {
   "cell_type": "code",
   "execution_count": 2,
   "id": "c200e45e",
   "metadata": {},
   "outputs": [],
   "source": [
    "age = [23,51,100]"
   ]
  },
  {
   "cell_type": "code",
   "execution_count": 1,
   "id": "bb820734",
   "metadata": {},
   "outputs": [],
   "source": [
    "def solution(age): # 함수 정의\n",
    "    answer = '' # 빈 문자열\n",
    "    abc_list = [\"a\",\"b\",\"c\",\"d\",\"e\",\"f\",\"g\",\"h\",\"i\",\"j\",\"k\",\"l\",\"m\",\"n\",\"o\",\"p\",\"q\",\"r\",\"s\",\"t\",\"u\",\"v\",\"w\",\"x\",\"y\",\"z\"] \n",
    "    # 알파벳 순서대로 리스트 생성\n",
    "    age = str(age) # age를 문자형 age로 변환하여 저장\n",
    "    \n",
    "    for i in age: # 반복문 age를 하나씩 슬라이스해서 가져옴\n",
    "        for idx,j in enumerate(abc_list): # 반복문, abc_list를 인덱스순서와, 값을 가져옴\n",
    "            if int(i) == idx: # 조건문 만약 정수형으로 변환한 i가 idx와 같을경우\n",
    "                answer += j # 조건문에 해당하는 i와 같은 idx(인덱스순서)의 j값을  answer에 저장\n",
    "                \n",
    "    return answer #출력"
   ]
  },
  {
   "cell_type": "code",
   "execution_count": 4,
   "id": "59414818",
   "metadata": {},
   "outputs": [
    {
     "data": {
      "text/plain": [
       "['cd', 'fb', 'baa']"
      ]
     },
     "execution_count": 4,
     "metadata": {},
     "output_type": "execute_result"
    }
   ],
   "source": [
    "[solution(i) for i in age] # 출력"
   ]
  }
 ],
 "metadata": {
  "kernelspec": {
   "display_name": "Python 3 (ipykernel)",
   "language": "python",
   "name": "python3"
  },
  "language_info": {
   "codemirror_mode": {
    "name": "ipython",
    "version": 3
   },
   "file_extension": ".py",
   "mimetype": "text/x-python",
   "name": "python",
   "nbconvert_exporter": "python",
   "pygments_lexer": "ipython3",
   "version": "3.11.4"
  }
 },
 "nbformat": 4,
 "nbformat_minor": 5
}
