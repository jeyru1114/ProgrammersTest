{
 "cells": [
  {
   "cell_type": "markdown",
   "id": "c5ba44f8",
   "metadata": {},
   "source": [
    "### 문제 설명\n",
    "문자열 str과 정수 n이 주어집니다.\n",
    "str이 n번 반복된 문자열을 만들어 출력하는 코드를 작성해 보세요.\n",
    "\n",
    "### 제한사항\n",
    "1 ≤ str의 길이 ≤ 10\n",
    "1 ≤ n ≤ 5\n",
    "\n",
    "### 입력\n",
    "string 5\n",
    "\n",
    "### 출력\n",
    "stringstringstringstringstring"
   ]
  },
  {
   "cell_type": "code",
   "execution_count": 1,
   "id": "964fed7b",
   "metadata": {},
   "outputs": [
    {
     "name": "stdout",
     "output_type": "stream",
     "text": [
      "string 5\n",
      "stringstringstringstringstring\n"
     ]
    }
   ],
   "source": [
    "a, b = input().strip().split(' ') # 공백을기준으로 입력받은 문자열을 구분하여 a,b에 저장\n",
    "b = int(b) #입력받은 문자열(정수)를 정수형으로 변경함 \n",
    "print(a*b) # 문자*정수 = b번만큼 반복된 a문자열"
   ]
  }
 ],
 "metadata": {
  "kernelspec": {
   "display_name": "Python 3 (ipykernel)",
   "language": "python",
   "name": "python3"
  },
  "language_info": {
   "codemirror_mode": {
    "name": "ipython",
    "version": 3
   },
   "file_extension": ".py",
   "mimetype": "text/x-python",
   "name": "python",
   "nbconvert_exporter": "python",
   "pygments_lexer": "ipython3",
   "version": "3.11.4"
  }
 },
 "nbformat": 4,
 "nbformat_minor": 5
}
