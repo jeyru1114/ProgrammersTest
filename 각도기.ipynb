{
 "cells": [
  {
   "cell_type": "markdown",
   "id": "cc904df3",
   "metadata": {},
   "source": [
    "### 문제 설명\n",
    "각에서 0도 초과 90도 미만은 예각, 90도는 직각, 90도 초과 180도 미만은 둔각 180도는 평각으로 분류합니다. 각 angle이 매개변수로 주어질 때 예각일 때 1, 직각일 때 2, 둔각일 때 3, 평각일 때 4를 return하도록 solution 함수를 완성해주세요.\n",
    "\n",
    "예각 : 0 < angle < 90\n",
    "직각 : angle = 90\n",
    "둔각 : 90 < angle < 180\n",
    "평각 : angle = 180\n",
    "\n",
    "### 제한사항\n",
    "0 < angle ≤ 180\n",
    "angle은 정수입니다.\n",
    "\n",
    "### 입출력 예\n",
    "<table>\n",
    "    <tr>\n",
    "        <th>angle</th>\n",
    "        <th>result</th>\n",
    "    </tr>\n",
    "    <tr>\n",
    "        <td>70</td>\n",
    "        <td>1</td>\n",
    "    </tr>\n",
    "    <tr>\n",
    "        <td>91</td>\n",
    "        <td>3</td>\n",
    "    </tr>\n",
    "    <tr>\n",
    "        <td>180</td>\n",
    "        <td>4</td>\n",
    "    </tr>\n",
    "</table>\n",
    "\n",
    "### 입출력 예 설명\n",
    "#### 입출력 예 #1\n",
    "angle이 70이므로 예각입니다. 따라서 1을 return합니다.\n",
    "\n",
    "#### 입출력 예 #2\n",
    "angle이 91이므로 둔각입니다. 따라서 3을 return합니다.\n",
    "\n",
    "#### 입출력 예 #2\n",
    "angle이 180이므로 평각입니다. 따라서 4를 return합니다."
   ]
  },
  {
   "cell_type": "code",
   "execution_count": 1,
   "id": "d4658743",
   "metadata": {},
   "outputs": [],
   "source": [
    "def solution(angle): # 함수정의\n",
    "    if 0 < angle < 90: # 조건문, 만약 angle이 0초과 90미만일때 \n",
    "        answer = 1 # answer에 1 저장\n",
    "    elif angle == 90 : # 만약 angle이 90과 같다면\n",
    "        answer = 2 # answer에 2 저장\n",
    "    elif 90 < angle < 180: # 만약 angle이 90초과 180미만일때\n",
    "        answer = 3 # answer에 3 저장\n",
    "    else: # 위에 조건들이 아닐경우\n",
    "        answer = 4 # answer에 4저장\n",
    "    return answer #출력"
   ]
  },
  {
   "cell_type": "code",
   "execution_count": 2,
   "id": "4c8bd9be",
   "metadata": {
    "scrolled": true
   },
   "outputs": [
    {
     "data": {
      "text/plain": [
       "1"
      ]
     },
     "execution_count": 2,
     "metadata": {},
     "output_type": "execute_result"
    }
   ],
   "source": [
    "solution(70)"
   ]
  },
  {
   "cell_type": "code",
   "execution_count": 3,
   "id": "55813726",
   "metadata": {
    "scrolled": true
   },
   "outputs": [
    {
     "data": {
      "text/plain": [
       "3"
      ]
     },
     "execution_count": 3,
     "metadata": {},
     "output_type": "execute_result"
    }
   ],
   "source": [
    "solution(91)"
   ]
  },
  {
   "cell_type": "code",
   "execution_count": 4,
   "id": "19aa3821",
   "metadata": {},
   "outputs": [
    {
     "data": {
      "text/plain": [
       "4"
      ]
     },
     "execution_count": 4,
     "metadata": {},
     "output_type": "execute_result"
    }
   ],
   "source": [
    "solution(180)"
   ]
  }
 ],
 "metadata": {
  "kernelspec": {
   "display_name": "Python 3 (ipykernel)",
   "language": "python",
   "name": "python3"
  },
  "language_info": {
   "codemirror_mode": {
    "name": "ipython",
    "version": 3
   },
   "file_extension": ".py",
   "mimetype": "text/x-python",
   "name": "python",
   "nbconvert_exporter": "python",
   "pygments_lexer": "ipython3",
   "version": "3.11.4"
  }
 },
 "nbformat": 4,
 "nbformat_minor": 5
}
