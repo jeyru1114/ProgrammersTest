{
 "cells": [
  {
   "cell_type": "markdown",
   "id": "1925b048",
   "metadata": {},
   "source": [
    "## 문제 설명\n",
    "연산 ⊕는 두 정수에 대한 연산으로 두 정수를 붙여서 쓴 값을 반환합니다. 예를 들면 다음과 같습니다.\n",
    "\n",
    "12 ⊕ 3 = 123\n",
    "3 ⊕ 12 = 312\n",
    "\n",
    "양의 정수 a와 b가 주어졌을 때, a ⊕ b와 2 * a * b 중 더 큰 값을 return하는 solution 함수를 완성해 주세요.\n",
    "단, a ⊕ b와 2 * a * b가 같으면 a ⊕ b를 return 합니다.\n",
    "\n",
    "## 제한사항\n",
    "1 ≤ a, b < 10,000\n",
    "\n",
    "## 입출력 예\n",
    "|a\t|b\t|result|\n",
    "|:-:|:-:|:----:|\n",
    "|2\t|91\t|364|\n",
    "|91\t|2\t|912|\n",
    "\n",
    "## 입출력 예 설명\n",
    "\n",
    "### 입출력 예 #1\n",
    "a ⊕ b = 291 이고, 2 * a * b = 364 입니다. 둘 중 더 큰 값은 364 이므로 364를 return 합니다.\n",
    "\n",
    "### 입출력 예 #2\n",
    "a ⊕ b = 912 이고, 2 * a * b = 364 입니다. 둘 중 더 큰 값은 912 이므로 912를 return 합니다.\n",
    "※ 2023년 04월 27일 입출력 예 설명이 수정되었습니다."
   ]
  },
  {
   "cell_type": "code",
   "execution_count": 9,
   "id": "d7b26e72",
   "metadata": {},
   "outputs": [],
   "source": [
    "a = [2,91]\n",
    "b = [91,2]"
   ]
  },
  {
   "cell_type": "code",
   "execution_count": 6,
   "id": "6e205d15",
   "metadata": {},
   "outputs": [],
   "source": [
    "def solution(a, b): # 함수 정의\n",
    "    a1,b1=str(a),str(b) # a1, b1에 문자열로 변환한 a, b 저장\n",
    "\n",
    "    if int(a1+b1) < 2*a*b: # 조건문, 만약 a1+b1을 변환한 정수가 2*a*b 보다 작다면\n",
    "        return 2*a*b # 2*a*b 의 결과값 출력\n",
    "    else : # 그렇지 않으면\n",
    "        return int(a1+b1) # a1+b1을 정수형으로 변환하여 출력"
   ]
  },
  {
   "cell_type": "code",
   "execution_count": 15,
   "id": "4a0aaa68",
   "metadata": {
    "scrolled": true
   },
   "outputs": [
    {
     "data": {
      "text/plain": [
       "[364, 912]"
      ]
     },
     "execution_count": 15,
     "metadata": {},
     "output_type": "execute_result"
    }
   ],
   "source": [
    "[solution(i, j) for i,j in zip(a,b)] # 출력"
   ]
  }
 ],
 "metadata": {
  "kernelspec": {
   "display_name": "Python 3 (ipykernel)",
   "language": "python",
   "name": "python3"
  },
  "language_info": {
   "codemirror_mode": {
    "name": "ipython",
    "version": 3
   },
   "file_extension": ".py",
   "mimetype": "text/x-python",
   "name": "python",
   "nbconvert_exporter": "python",
   "pygments_lexer": "ipython3",
   "version": "3.11.4"
  }
 },
 "nbformat": 4,
 "nbformat_minor": 5
}
