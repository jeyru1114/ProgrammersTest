{
 "cells": [
  {
   "cell_type": "markdown",
   "id": "50753a92",
   "metadata": {},
   "source": [
    "### 문제 설명\n",
    "두 개의 문자열 str1, str2가 공백으로 구분되어 입력으로 주어집니다.\n",
    "입출력 예와 같이 str1과 str2을 이어서 출력하는 코드를 작성해 보세요.\n",
    "\n",
    "### 제한사항\n",
    "1 ≤ str1, str2의 길이 ≤ 10\n",
    "\n",
    "### 입력 #1\n",
    "apple pen\n",
    "\n",
    "### 출력 #1\n",
    "applepen\n",
    "\n",
    "### 입력 #2\n",
    "Hello World!\n",
    "\n",
    "### 출력 #2\n",
    "HelloWorld!"
   ]
  },
  {
   "cell_type": "code",
   "execution_count": 1,
   "id": "d7133c72",
   "metadata": {},
   "outputs": [
    {
     "name": "stdout",
     "output_type": "stream",
     "text": [
      "apple pen\n",
      "applepen\n"
     ]
    }
   ],
   "source": [
    "str1, str2 = input().strip().split(' ') # 입력받은 문자열 공백을 기준으로 잘라서 str1, str2에 저장\n",
    "print(str1+str2) # str1+st2를 출력하면 합쳐진 문자열 출력"
   ]
  }
 ],
 "metadata": {
  "kernelspec": {
   "display_name": "Python 3 (ipykernel)",
   "language": "python",
   "name": "python3"
  },
  "language_info": {
   "codemirror_mode": {
    "name": "ipython",
    "version": 3
   },
   "file_extension": ".py",
   "mimetype": "text/x-python",
   "name": "python",
   "nbconvert_exporter": "python",
   "pygments_lexer": "ipython3",
   "version": "3.11.4"
  }
 },
 "nbformat": 4,
 "nbformat_minor": 5
}
