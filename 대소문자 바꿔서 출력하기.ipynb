{
 "cells": [
  {
   "cell_type": "markdown",
   "id": "000f2710",
   "metadata": {},
   "source": [
    "### 문제 설명\n",
    "영어 알파벳으로 이루어진 문자열 str이 주어집니다. 각 알파벳을 대문자는 소문자로 소문자는 대문자로 변환해서 출력하는 코드를 작성해 보세요.\n",
    "\n",
    "### 제한사항\n",
    "1 ≤ str의 길이 ≤ 20\n",
    "str은 알파벳으로 이루어진 문자열입니다.\n",
    "\n",
    "### 입력\n",
    "aBcDeFg\n",
    "\n",
    "### 출력\n",
    "AbCdEfG"
   ]
  },
  {
   "cell_type": "code",
   "execution_count": 1,
   "id": "22a8f97b",
   "metadata": {},
   "outputs": [
    {
     "name": "stdout",
     "output_type": "stream",
     "text": [
      "aBcDeFg\n",
      "AbCdEfG\n"
     ]
    }
   ],
   "source": [
    "str = input() # 입력받은 문자열을 str에 저장\n",
    "str1 = str.swapcase() # str의 문자를 swapcase로 대소문자를 바꿔서 str1에 저장\n",
    "print(str1) #출력"
   ]
  }
 ],
 "metadata": {
  "kernelspec": {
   "display_name": "Python 3 (ipykernel)",
   "language": "python",
   "name": "python3"
  },
  "language_info": {
   "codemirror_mode": {
    "name": "ipython",
    "version": 3
   },
   "file_extension": ".py",
   "mimetype": "text/x-python",
   "name": "python",
   "nbconvert_exporter": "python",
   "pygments_lexer": "ipython3",
   "version": "3.11.4"
  }
 },
 "nbformat": 4,
 "nbformat_minor": 5
}
