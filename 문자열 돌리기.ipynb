{
 "cells": [
  {
   "cell_type": "markdown",
   "id": "4e7c63c7",
   "metadata": {},
   "source": [
    "### 문제 설명\n",
    "문자열 str이 주어집니다.\n",
    "문자열을 시계방향으로 90도 돌려서 아래 입출력 예와 같이 출력하는 코드를 작성해 보세요.\n",
    "\n",
    "### 제한사항\n",
    "1 ≤ str의 길이 ≤ 10\n",
    "\n",
    "### 입력 #1\n",
    "abcde\n",
    "\n",
    "### 출력 #1\n",
    "a <br>\n",
    "b <br>\n",
    "c <br>\n",
    "d <br>\n",
    "e <br>"
   ]
  },
  {
   "cell_type": "code",
   "execution_count": 1,
   "id": "aa2eca9e",
   "metadata": {},
   "outputs": [
    {
     "name": "stdout",
     "output_type": "stream",
     "text": [
      "abcde\n",
      "a\n",
      "b\n",
      "c\n",
      "d\n",
      "e\n"
     ]
    }
   ],
   "source": [
    "str = input() # 입력받은 문자열을 str에 저장\n",
    "for i in str: # 반복문을 사용하여 str에서 i로 하나씩 가져와서 프린트\n",
    "    print(i)"
   ]
  }
 ],
 "metadata": {
  "kernelspec": {
   "display_name": "Python 3 (ipykernel)",
   "language": "python",
   "name": "python3"
  },
  "language_info": {
   "codemirror_mode": {
    "name": "ipython",
    "version": 3
   },
   "file_extension": ".py",
   "mimetype": "text/x-python",
   "name": "python",
   "nbconvert_exporter": "python",
   "pygments_lexer": "ipython3",
   "version": "3.11.4"
  }
 },
 "nbformat": 4,
 "nbformat_minor": 5
}
