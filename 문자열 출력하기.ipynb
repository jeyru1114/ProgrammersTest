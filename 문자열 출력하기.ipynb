{
 "cells": [
  {
   "cell_type": "markdown",
   "id": "37e32057",
   "metadata": {},
   "source": [
    "### 문제설명\n",
    "문자열 str이 주어질 때, str을 출력하는 코드를 작성해 보세요.\n",
    "\n",
    "### 제한사항\n",
    "1 ≤ str의 길이 ≤ 1,000,000\n",
    "str에는 공백이 없으며, 첫째 줄에 한 줄로만 주어집니다.\n",
    "\n",
    "### 입력\n",
    "HelloWorld!\n",
    "\n",
    "### 출력\n",
    "HelloWorld!"
   ]
  },
  {
   "cell_type": "code",
   "execution_count": 3,
   "id": "81e3a3f4",
   "metadata": {},
   "outputs": [
    {
     "name": "stdout",
     "output_type": "stream",
     "text": [
      "HelloWorld!\n",
      "HelloWorld!\n"
     ]
    }
   ],
   "source": [
    "str = input() #  str변수에 input으로 문자열을 입력받음\n",
    "print(str) # str을 출력함"
   ]
  }
 ],
 "metadata": {
  "kernelspec": {
   "display_name": "Python 3 (ipykernel)",
   "language": "python",
   "name": "python3"
  },
  "language_info": {
   "codemirror_mode": {
    "name": "ipython",
    "version": 3
   },
   "file_extension": ".py",
   "mimetype": "text/x-python",
   "name": "python",
   "nbconvert_exporter": "python",
   "pygments_lexer": "ipython3",
   "version": "3.11.4"
  }
 },
 "nbformat": 4,
 "nbformat_minor": 5
}
