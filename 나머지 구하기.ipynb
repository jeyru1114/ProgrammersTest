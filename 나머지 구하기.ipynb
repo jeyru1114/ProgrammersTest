{
 "cells": [
  {
   "cell_type": "markdown",
   "id": "17f49737",
   "metadata": {},
   "source": [
    "### 문제 설명\n",
    "정수 num1, num2가 매개변수로 주어질 때, num1를 num2로 나눈 나머지를 return 하도록 solution 함수를 완성해주세요.\n",
    "\n",
    "### 제한사항\n",
    "0 < num1 ≤ 100\n",
    "0 < num2 ≤ 100\n",
    "\n",
    "### 입출력 예\n",
    "<table>\n",
    "    <tr>\n",
    "        <th>num1</th>\n",
    "        <th>num2</th>\n",
    "        <th>result</th>\n",
    "    </tr>\n",
    "    <tr>\n",
    "        <td>3</td>\n",
    "        <td>2</td>\n",
    "        <td>1</td>\n",
    "    </tr>\n",
    "    <tr>\n",
    "        <td>10</td>\n",
    "        <td>5</td>\n",
    "        <td>0</td>\n",
    "    </tr>\n",
    "</table>\n",
    "### 입출력 예 설명\n",
    "#### 입출력 예 #1\n",
    "num1이 3, num2가 2이므로 3을 2로 나눈 나머지 1을 return 합니다.\n",
    "\n",
    "#### 입출력 예 #2\n",
    "num1이 10, num2가 5이므로 10을 5로 나눈 나머지 0을 return 합니다."
   ]
  },
  {
   "cell_type": "code",
   "execution_count": 2,
   "id": "7c49bca1",
   "metadata": {},
   "outputs": [],
   "source": [
    "def solution(num1, num2): # 솔루션 함수 정의\n",
    "    answer = num1 % num2 # num1을 num2로 나눈 나머지를 answer에 저장 , %는 나눈 나머지를 구할때 씀\n",
    "    return answer # 출력"
   ]
  },
  {
   "cell_type": "code",
   "execution_count": 3,
   "id": "70c64093",
   "metadata": {
    "scrolled": true
   },
   "outputs": [
    {
     "data": {
      "text/plain": [
       "1"
      ]
     },
     "execution_count": 3,
     "metadata": {},
     "output_type": "execute_result"
    }
   ],
   "source": [
    "solution(3,2)"
   ]
  },
  {
   "cell_type": "code",
   "execution_count": 4,
   "id": "a1892161",
   "metadata": {},
   "outputs": [
    {
     "data": {
      "text/plain": [
       "0"
      ]
     },
     "execution_count": 4,
     "metadata": {},
     "output_type": "execute_result"
    }
   ],
   "source": [
    "solution(10,5)"
   ]
  }
 ],
 "metadata": {
  "kernelspec": {
   "display_name": "Python 3 (ipykernel)",
   "language": "python",
   "name": "python3"
  },
  "language_info": {
   "codemirror_mode": {
    "name": "ipython",
    "version": 3
   },
   "file_extension": ".py",
   "mimetype": "text/x-python",
   "name": "python",
   "nbconvert_exporter": "python",
   "pygments_lexer": "ipython3",
   "version": "3.11.4"
  }
 },
 "nbformat": 4,
 "nbformat_minor": 5
}
