{
 "cells": [
  {
   "cell_type": "markdown",
   "id": "c6915bee",
   "metadata": {},
   "source": [
    "### 문제 설명\n",
    "정수 num1과 num2가 주어질 때, num1과 num2의 합을 return하도록 soltuion 함수를 완성해주세요.\n",
    "\n",
    "### 제한사항\n",
    "-50,000 ≤ num1 ≤ 50,000\n",
    "-50,000 ≤ num2 ≤ 50,000\n",
    "\n",
    "### 입출력 예\n",
    "<table>\n",
    "    <tr>\n",
    "        <th>num1</th>\n",
    "        <th>num2</th>\n",
    "        <th>result</th>\n",
    "    </tr>\n",
    "    <tr>\n",
    "        <td>2</td>\n",
    "        <td>3</td>\n",
    "        <td>5</td>\n",
    "    </tr>\n",
    "    <tr>\n",
    "        <td>100</td>\n",
    "        <td>2</td>\n",
    "        <td>102</td>\n",
    "    </tr>\n",
    "</table>\n",
    "\n",
    "### 입출력 예 설명\n",
    "#### 입출력 예 #1\n",
    "num1이 2이고 num2가 3이므로 2 + 3 = 5를 return합니다.\n",
    "\n",
    "#### 입출력 예 #2\n",
    "num1이 100이고 num2가 2이므로 100 + 2 = 102를 return합니다."
   ]
  },
  {
   "cell_type": "code",
   "execution_count": 1,
   "id": "7bdfae6a",
   "metadata": {},
   "outputs": [],
   "source": [
    "def solution(num1, num2): # 함수정의\n",
    "    answer = num1 + num2 # num1 과 num2의 합을 answer에 저장\n",
    "    return answer # 출력"
   ]
  },
  {
   "cell_type": "code",
   "execution_count": 2,
   "id": "5e553531",
   "metadata": {
    "scrolled": true
   },
   "outputs": [
    {
     "data": {
      "text/plain": [
       "5"
      ]
     },
     "execution_count": 2,
     "metadata": {},
     "output_type": "execute_result"
    }
   ],
   "source": [
    "solution(2,3)"
   ]
  },
  {
   "cell_type": "code",
   "execution_count": 3,
   "id": "9f3cef5e",
   "metadata": {
    "scrolled": true
   },
   "outputs": [
    {
     "data": {
      "text/plain": [
       "102"
      ]
     },
     "execution_count": 3,
     "metadata": {},
     "output_type": "execute_result"
    }
   ],
   "source": [
    "solution(100,2)"
   ]
  }
 ],
 "metadata": {
  "kernelspec": {
   "display_name": "Python 3 (ipykernel)",
   "language": "python",
   "name": "python3"
  },
  "language_info": {
   "codemirror_mode": {
    "name": "ipython",
    "version": 3
   },
   "file_extension": ".py",
   "mimetype": "text/x-python",
   "name": "python",
   "nbconvert_exporter": "python",
   "pygments_lexer": "ipython3",
   "version": "3.11.4"
  }
 },
 "nbformat": 4,
 "nbformat_minor": 5
}
