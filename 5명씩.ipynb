{
 "cells": [
  {
   "cell_type": "markdown",
   "id": "8bf27f74",
   "metadata": {},
   "source": [
    "## 문제 설명\n",
    "최대 5명씩 탑승가능한 놀이기구를 타기 위해 줄을 서있는 사람들의 이름이 담긴 문자열 리스트 names가 주어질 때, <br>\n",
    "앞에서 부터 5명씩 묶은 그룹의 가장 앞에 서있는 사람들의 이름을 담은 리스트를 return하도록 solution 함수를 완성해주세요. <br>\n",
    "마지막 그룹이 5명이 되지 않더라도 가장 앞에 있는 사람의 이름을 포함합니다.\n",
    "\n",
    "## 제한사항\n",
    "5 ≤ names의 길이 ≤ 30\n",
    "1 ≤ names의 원소의 길이 ≤ 10\n",
    "names의 원소는 영어 알파벳 소문자로만 이루어져 있습니다.\n",
    "\n",
    "## 입출력 예\n",
    "\n",
    "|                           names                            |     result    |\n",
    "|:----------------------------------------------------------:|:-------------:|\n",
    "| [\"nami\", \"ahri\", \"jayce\", \"garen\", \"ivern\", \"vex\", \"jinx\"] |[\"nami\", \"vex\"]|\n",
    "\n",
    "## 입출력 예 설명\n",
    "\n",
    "### 입출력 예 #1\n",
    "앞에서부터 5명씩 두 그룹으로 묶을 수 있습니다. <br>\n",
    "[\"nami\", \"ahri\", \"jayce\", \"garen\", \"ivern\"], [\"vex\", \"jinx\"] 이 두 그룹에서 가장 앞에 서있는 사람들의 이름을 담은 리스트인<br>\n",
    "[\"nami\", \"vex\"]를 return합니다."
   ]
  },
  {
   "cell_type": "code",
   "execution_count": 2,
   "id": "bea11918",
   "metadata": {},
   "outputs": [],
   "source": [
    "names = [\"nami\", \"ahri\", \"jayce\", \"garen\", \"ivern\", \"vex\", \"jinx\"]"
   ]
  },
  {
   "cell_type": "code",
   "execution_count": 1,
   "id": "5098a627",
   "metadata": {},
   "outputs": [],
   "source": [
    "def solution(names): # 함수정의\n",
    "    answer = [] # 빈리스트 생성\n",
    "\n",
    "    for idx in range(0, len(names), 5): # 반복문, 0부터 names의 갯수까지, 5만큼씩\n",
    "        answer.append(names[idx]) # 빈리스트에 [idx위치번째] names를 추가\n",
    "\n",
    "    return answer #출력 "
   ]
  },
  {
   "cell_type": "code",
   "execution_count": 3,
   "id": "bfb20711",
   "metadata": {},
   "outputs": [
    {
     "data": {
      "text/plain": [
       "['nami', 'vex']"
      ]
     },
     "execution_count": 3,
     "metadata": {},
     "output_type": "execute_result"
    }
   ],
   "source": [
    "solution(names) # 출력결과 names의 0번째와 이후 5번째가 출력됨"
   ]
  }
 ],
 "metadata": {
  "kernelspec": {
   "display_name": "Python 3 (ipykernel)",
   "language": "python",
   "name": "python3"
  },
  "language_info": {
   "codemirror_mode": {
    "name": "ipython",
    "version": 3
   },
   "file_extension": ".py",
   "mimetype": "text/x-python",
   "name": "python",
   "nbconvert_exporter": "python",
   "pygments_lexer": "ipython3",
   "version": "3.11.4"
  }
 },
 "nbformat": 4,
 "nbformat_minor": 5
}
