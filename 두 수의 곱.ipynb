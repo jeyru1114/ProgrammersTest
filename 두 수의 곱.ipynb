{
 "cells": [
  {
   "cell_type": "markdown",
   "id": "36086acf",
   "metadata": {},
   "source": [
    "### 문제 설명\n",
    "정수 num1, num2가 매개변수 주어집니다. num1과 num2를 곱한 값을 return 하도록 solution 함수를 완성해주세요.\n",
    "\n",
    "### 제한사항\n",
    "0 ≤ num1 ≤ 100\n",
    "0 ≤ num2 ≤ 100\n",
    "\n",
    "### 입출력 예\n",
    "<table>\n",
    "    <tr>\n",
    "        <th>num1</th>\n",
    "        <th>num2</th>\n",
    "        <th>result</th>\n",
    "    </tr>\n",
    "    <tr>\n",
    "        <td>3</td>\n",
    "        <td>4</td>\n",
    "        <td>12</td>\n",
    "    </tr>\n",
    "    <tr>\n",
    "        <td>27</td>\n",
    "        <td>19</td>\n",
    "        <td>513</td>\n",
    "    </tr>\n",
    "</table>\n",
    "\n",
    "### 입출력 예 설명\n",
    "#### 입출력 예 #1\n",
    "num1이 3, num2가 4이므로 3 * 4 = 12를 return합니다.\n",
    "\n",
    "#### 입출력 예 #2\n",
    "num1이 27, num2가 19이므로 27 * 19 = 513을 return합니다."
   ]
  },
  {
   "cell_type": "code",
   "execution_count": 1,
   "id": "a477dfc2",
   "metadata": {},
   "outputs": [],
   "source": [
    "def solution(num1, num2): # 솔루션 함수 정의\n",
    "    answer = num1*num2 # num1과 num2를 곱한 값을 answer에 저장\n",
    "    return answer #출력"
   ]
  },
  {
   "cell_type": "code",
   "execution_count": 2,
   "id": "344b358f",
   "metadata": {
    "scrolled": true
   },
   "outputs": [
    {
     "data": {
      "text/plain": [
       "12"
      ]
     },
     "execution_count": 2,
     "metadata": {},
     "output_type": "execute_result"
    }
   ],
   "source": [
    "solution(3,4)"
   ]
  },
  {
   "cell_type": "code",
   "execution_count": 3,
   "id": "478a8726",
   "metadata": {},
   "outputs": [
    {
     "data": {
      "text/plain": [
       "513"
      ]
     },
     "execution_count": 3,
     "metadata": {},
     "output_type": "execute_result"
    }
   ],
   "source": [
    "solution(27,19)"
   ]
  }
 ],
 "metadata": {
  "kernelspec": {
   "display_name": "Python 3 (ipykernel)",
   "language": "python",
   "name": "python3"
  },
  "language_info": {
   "codemirror_mode": {
    "name": "ipython",
    "version": 3
   },
   "file_extension": ".py",
   "mimetype": "text/x-python",
   "name": "python",
   "nbconvert_exporter": "python",
   "pygments_lexer": "ipython3",
   "version": "3.11.4"
  }
 },
 "nbformat": 4,
 "nbformat_minor": 5
}
