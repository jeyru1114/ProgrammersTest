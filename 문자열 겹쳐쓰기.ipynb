{
 "cells": [
  {
   "cell_type": "markdown",
   "id": "471399b5",
   "metadata": {},
   "source": [
    "### 문제 설명\n",
    "문자열 my_string, overwrite_string과 정수 s가 주어집니다. 문자열 my_string의 인덱스 s부터 overwrite_string의 길이만큼을 문자열 overwrite_string으로 바꾼 문자열을 return 하는 solution 함수를 작성해 주세요.\n",
    "\n",
    "### 제한사항\n",
    "my_string와 overwrite_string은 숫자와 알파벳으로 이루어져 있습니다.\n",
    "1 ≤ overwrite_string의 길이 ≤ my_string의 길이 ≤ 1,000\n",
    "0 ≤ s ≤ my_string의 길이 - overwrite_string의 길이\n",
    "\n",
    "### 입출력 예\n",
    "<table>\n",
    "  <tr>\n",
    "    <th>my_string</th>\n",
    "    <th>overwrite_string</th>\n",
    "    <th>s</th>\n",
    "    <th>result</th>\n",
    "  </tr>\n",
    "  <tr>\n",
    "    <td>\"He11oWor1d\"</td>\n",
    "    <td>\"lloWorl\"</td>\n",
    "    <td>2</td>\n",
    "    <td>\"HelloWorld\"</td>\n",
    "  </tr>\n",
    "  <tr>\n",
    "    <td>\"Program29b8UYP\"</td>\n",
    "    <td>\"merS123\"</td>\n",
    "    <td>7</td>\n",
    "    <td>\"ProgrammerS123\"</td>\n",
    "  </tr>\n",
    "</table>\n",
    "\n",
    "### 입출력 예 설명\n",
    "#### 입출력 예 #1\n",
    "예제 1번의 my_string에서 인덱스 2부터 overwrite_string의 길이만큼에 해당하는 부분은 \"11oWor1\"이고 이를 \"lloWorl\"로 바꾼 \"HelloWorld\"를 return 합니다.\n",
    "\n",
    "#### 입출력 예 #2\n",
    "예제 2번의 my_string에서 인덱스 7부터 overwrite_string의 길이만큼에 해당하는 부분은 \"29b8UYP\"이고 이를 \"merS123\"로 바꾼 \"ProgrammerS123\"를 return 합니다."
   ]
  },
  {
   "cell_type": "code",
   "execution_count": 11,
   "id": "96891298",
   "metadata": {},
   "outputs": [],
   "source": [
    "my_string = \"He11oWor1d\"\n",
    "overwrite_string = \"lloWorl\"\n",
    "s = 2"
   ]
  },
  {
   "cell_type": "code",
   "execution_count": 12,
   "id": "4741d719",
   "metadata": {},
   "outputs": [],
   "source": [
    "def solution(my_string, overwrite_string, s): # 3개의 인자를 받는 솔루션 함수 정의\n",
    "    answer = my_string[:s] + overwrite_string + my_string[s+len(overwrite_string):]\n",
    "    return answer\n",
    "# my_string[:s]만큼 슬라이싱하면 \"He\"\n",
    "# overwrite_string의 값 \"lloWorl\"\n",
    "# my_string[s+len(overwrite_string):]는 my_string[2+7:]이므로 인덱스 9부터 끝까지의 값인 \"d\"\n",
    "# 세 값을 합하여 answer에 저장후 출력"
   ]
  },
  {
   "cell_type": "code",
   "execution_count": 13,
   "id": "c2f23d11",
   "metadata": {
    "scrolled": true
   },
   "outputs": [
    {
     "data": {
      "text/plain": [
       "'HelloWorld'"
      ]
     },
     "execution_count": 13,
     "metadata": {},
     "output_type": "execute_result"
    }
   ],
   "source": [
    "solution(my_string, overwrite_string, s)"
   ]
  }
 ],
 "metadata": {
  "kernelspec": {
   "display_name": "Python 3 (ipykernel)",
   "language": "python",
   "name": "python3"
  },
  "language_info": {
   "codemirror_mode": {
    "name": "ipython",
    "version": 3
   },
   "file_extension": ".py",
   "mimetype": "text/x-python",
   "name": "python",
   "nbconvert_exporter": "python",
   "pygments_lexer": "ipython3",
   "version": "3.11.4"
  }
 },
 "nbformat": 4,
 "nbformat_minor": 5
}
