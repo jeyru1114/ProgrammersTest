{
 "cells": [
  {
   "cell_type": "markdown",
   "id": "8f92256c",
   "metadata": {},
   "source": [
    "### 문제 설명\n",
    "정수 num1과 num2가 매개변수로 주어질 때, num1을 num2로 나눈 값에 1,000을 곱한 후 정수 부분을 return 하도록 soltuion 함수를 완성해주세요.\n",
    "\n",
    "### 제한사항\n",
    "0 < num1 ≤ 100\n",
    "0 < num2 ≤ 100\n",
    "\n",
    "### 입출력 예\n",
    "<table>\n",
    "    <tr>\n",
    "        <th>num1</th>\n",
    "        <th>num2</th>\n",
    "        <th>result</th>\n",
    "    </tr>\n",
    "    <tr>\n",
    "        <td>3</td>\n",
    "        <td>2</td>\n",
    "        <td>1500</td>\n",
    "    </tr>\n",
    "    <tr>\n",
    "        <td>7</td>\n",
    "        <td>3</td>\n",
    "        <td>2333</td>\n",
    "    </tr>\n",
    "    <tr>\n",
    "        <td>1</td>\n",
    "        <td>16</td>\n",
    "        <td>62</td>\n",
    "    </tr>\n",
    "</table>\n",
    "\n",
    "### 입출력 예 설명\n",
    "#### 입출력 예 #1\n",
    "num1이 3, num2가 2이므로 3 / 2 = 1.5에 1,000을 곱하면 1500이 됩니다.\n",
    "\n",
    "#### 입출력 예 #2\n",
    "num1이 7, num2가 3이므로 7 / 3 = 2.33333...에 1,000을 곱하면 2333.3333.... 이 되며, 정수 부분은 2333입니다.\n",
    "\n",
    "#### 입출력 예 #3\n",
    "num1이 1, num2가 16이므로 1 / 16 = 0.0625에 1,000을 곱하면 62.5가 되며, 정수 부분은 62입니다."
   ]
  },
  {
   "cell_type": "code",
   "execution_count": 2,
   "id": "e4788655",
   "metadata": {},
   "outputs": [],
   "source": [
    "def solution(num1, num2): # 솔루션 함수정의\n",
    "    answer = (num1 / num2)*1000 # num1을 num2로 나눈 값에 1000을 곱하여 answer에 저장\n",
    "    return int(answer) # answer를 정수로 변환 출력"
   ]
  },
  {
   "cell_type": "code",
   "execution_count": 3,
   "id": "8f4c2fe5",
   "metadata": {
    "scrolled": true
   },
   "outputs": [
    {
     "data": {
      "text/plain": [
       "1500"
      ]
     },
     "execution_count": 3,
     "metadata": {},
     "output_type": "execute_result"
    }
   ],
   "source": [
    "solution(3,2)"
   ]
  },
  {
   "cell_type": "code",
   "execution_count": 4,
   "id": "43ba1aca",
   "metadata": {
    "scrolled": false
   },
   "outputs": [
    {
     "data": {
      "text/plain": [
       "2333"
      ]
     },
     "execution_count": 4,
     "metadata": {},
     "output_type": "execute_result"
    }
   ],
   "source": [
    "solution(7,3)"
   ]
  },
  {
   "cell_type": "code",
   "execution_count": 5,
   "id": "e59abc3f",
   "metadata": {},
   "outputs": [
    {
     "data": {
      "text/plain": [
       "62"
      ]
     },
     "execution_count": 5,
     "metadata": {},
     "output_type": "execute_result"
    }
   ],
   "source": [
    "solution(1,16)"
   ]
  }
 ],
 "metadata": {
  "kernelspec": {
   "display_name": "Python 3 (ipykernel)",
   "language": "python",
   "name": "python3"
  },
  "language_info": {
   "codemirror_mode": {
    "name": "ipython",
    "version": 3
   },
   "file_extension": ".py",
   "mimetype": "text/x-python",
   "name": "python",
   "nbconvert_exporter": "python",
   "pygments_lexer": "ipython3",
   "version": "3.11.4"
  }
 },
 "nbformat": 4,
 "nbformat_minor": 5
}
